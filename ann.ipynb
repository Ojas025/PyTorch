{
 "cells": [
  {
   "cell_type": "code",
   "execution_count": 2,
   "id": "d306f209",
   "metadata": {},
   "outputs": [],
   "source": [
    "import pandas as pd\n",
    "import numpy as np\n",
    "from sklearn.model_selection import train_test_split\n",
    "import torch\n",
    "import torch.nn as nn\n",
    "import torch.optim as optim\n",
    "from torch.utils.data import Dataset,DataLoader\n",
    "import matplotlib.pyplot as plt  "
   ]
  },
  {
   "cell_type": "code",
   "execution_count": 3,
   "id": "26e83d86",
   "metadata": {},
   "outputs": [
    {
     "data": {
      "text/plain": [
       "<torch._C.Generator at 0x2133688f510>"
      ]
     },
     "execution_count": 3,
     "metadata": {},
     "output_type": "execute_result"
    }
   ],
   "source": [
    "torch.manual_seed(10)"
   ]
  },
  {
   "cell_type": "code",
   "execution_count": 4,
   "id": "965f015e",
   "metadata": {},
   "outputs": [
    {
     "data": {
      "text/html": [
       "<div>\n",
       "<style scoped>\n",
       "    .dataframe tbody tr th:only-of-type {\n",
       "        vertical-align: middle;\n",
       "    }\n",
       "\n",
       "    .dataframe tbody tr th {\n",
       "        vertical-align: top;\n",
       "    }\n",
       "\n",
       "    .dataframe thead th {\n",
       "        text-align: right;\n",
       "    }\n",
       "</style>\n",
       "<table border=\"1\" class=\"dataframe\">\n",
       "  <thead>\n",
       "    <tr style=\"text-align: right;\">\n",
       "      <th></th>\n",
       "      <th>label</th>\n",
       "      <th>pixel1</th>\n",
       "      <th>pixel2</th>\n",
       "      <th>pixel3</th>\n",
       "      <th>pixel4</th>\n",
       "      <th>pixel5</th>\n",
       "      <th>pixel6</th>\n",
       "      <th>pixel7</th>\n",
       "      <th>pixel8</th>\n",
       "      <th>pixel9</th>\n",
       "      <th>...</th>\n",
       "      <th>pixel775</th>\n",
       "      <th>pixel776</th>\n",
       "      <th>pixel777</th>\n",
       "      <th>pixel778</th>\n",
       "      <th>pixel779</th>\n",
       "      <th>pixel780</th>\n",
       "      <th>pixel781</th>\n",
       "      <th>pixel782</th>\n",
       "      <th>pixel783</th>\n",
       "      <th>pixel784</th>\n",
       "    </tr>\n",
       "  </thead>\n",
       "  <tbody>\n",
       "    <tr>\n",
       "      <th>0</th>\n",
       "      <td>9</td>\n",
       "      <td>0</td>\n",
       "      <td>0</td>\n",
       "      <td>0</td>\n",
       "      <td>0</td>\n",
       "      <td>0</td>\n",
       "      <td>0</td>\n",
       "      <td>0</td>\n",
       "      <td>0</td>\n",
       "      <td>0</td>\n",
       "      <td>...</td>\n",
       "      <td>0</td>\n",
       "      <td>7</td>\n",
       "      <td>0</td>\n",
       "      <td>50</td>\n",
       "      <td>205</td>\n",
       "      <td>196</td>\n",
       "      <td>213</td>\n",
       "      <td>165</td>\n",
       "      <td>0</td>\n",
       "      <td>0</td>\n",
       "    </tr>\n",
       "    <tr>\n",
       "      <th>1</th>\n",
       "      <td>7</td>\n",
       "      <td>0</td>\n",
       "      <td>0</td>\n",
       "      <td>0</td>\n",
       "      <td>0</td>\n",
       "      <td>0</td>\n",
       "      <td>0</td>\n",
       "      <td>0</td>\n",
       "      <td>0</td>\n",
       "      <td>0</td>\n",
       "      <td>...</td>\n",
       "      <td>0</td>\n",
       "      <td>0</td>\n",
       "      <td>0</td>\n",
       "      <td>0</td>\n",
       "      <td>0</td>\n",
       "      <td>0</td>\n",
       "      <td>0</td>\n",
       "      <td>0</td>\n",
       "      <td>0</td>\n",
       "      <td>0</td>\n",
       "    </tr>\n",
       "    <tr>\n",
       "      <th>2</th>\n",
       "      <td>0</td>\n",
       "      <td>0</td>\n",
       "      <td>0</td>\n",
       "      <td>0</td>\n",
       "      <td>0</td>\n",
       "      <td>0</td>\n",
       "      <td>1</td>\n",
       "      <td>0</td>\n",
       "      <td>0</td>\n",
       "      <td>0</td>\n",
       "      <td>...</td>\n",
       "      <td>142</td>\n",
       "      <td>142</td>\n",
       "      <td>142</td>\n",
       "      <td>21</td>\n",
       "      <td>0</td>\n",
       "      <td>3</td>\n",
       "      <td>0</td>\n",
       "      <td>0</td>\n",
       "      <td>0</td>\n",
       "      <td>0</td>\n",
       "    </tr>\n",
       "    <tr>\n",
       "      <th>3</th>\n",
       "      <td>8</td>\n",
       "      <td>0</td>\n",
       "      <td>0</td>\n",
       "      <td>0</td>\n",
       "      <td>0</td>\n",
       "      <td>0</td>\n",
       "      <td>0</td>\n",
       "      <td>0</td>\n",
       "      <td>0</td>\n",
       "      <td>0</td>\n",
       "      <td>...</td>\n",
       "      <td>0</td>\n",
       "      <td>0</td>\n",
       "      <td>0</td>\n",
       "      <td>0</td>\n",
       "      <td>0</td>\n",
       "      <td>0</td>\n",
       "      <td>0</td>\n",
       "      <td>0</td>\n",
       "      <td>0</td>\n",
       "      <td>0</td>\n",
       "    </tr>\n",
       "    <tr>\n",
       "      <th>4</th>\n",
       "      <td>8</td>\n",
       "      <td>0</td>\n",
       "      <td>0</td>\n",
       "      <td>0</td>\n",
       "      <td>0</td>\n",
       "      <td>0</td>\n",
       "      <td>0</td>\n",
       "      <td>0</td>\n",
       "      <td>0</td>\n",
       "      <td>0</td>\n",
       "      <td>...</td>\n",
       "      <td>213</td>\n",
       "      <td>203</td>\n",
       "      <td>174</td>\n",
       "      <td>151</td>\n",
       "      <td>188</td>\n",
       "      <td>10</td>\n",
       "      <td>0</td>\n",
       "      <td>0</td>\n",
       "      <td>0</td>\n",
       "      <td>0</td>\n",
       "    </tr>\n",
       "  </tbody>\n",
       "</table>\n",
       "<p>5 rows × 785 columns</p>\n",
       "</div>"
      ],
      "text/plain": [
       "   label  pixel1  pixel2  pixel3  pixel4  pixel5  pixel6  pixel7  pixel8  \\\n",
       "0      9       0       0       0       0       0       0       0       0   \n",
       "1      7       0       0       0       0       0       0       0       0   \n",
       "2      0       0       0       0       0       0       1       0       0   \n",
       "3      8       0       0       0       0       0       0       0       0   \n",
       "4      8       0       0       0       0       0       0       0       0   \n",
       "\n",
       "   pixel9  ...  pixel775  pixel776  pixel777  pixel778  pixel779  pixel780  \\\n",
       "0       0  ...         0         7         0        50       205       196   \n",
       "1       0  ...         0         0         0         0         0         0   \n",
       "2       0  ...       142       142       142        21         0         3   \n",
       "3       0  ...         0         0         0         0         0         0   \n",
       "4       0  ...       213       203       174       151       188        10   \n",
       "\n",
       "   pixel781  pixel782  pixel783  pixel784  \n",
       "0       213       165         0         0  \n",
       "1         0         0         0         0  \n",
       "2         0         0         0         0  \n",
       "3         0         0         0         0  \n",
       "4         0         0         0         0  \n",
       "\n",
       "[5 rows x 785 columns]"
      ]
     },
     "execution_count": 4,
     "metadata": {},
     "output_type": "execute_result"
    }
   ],
   "source": [
    "df = pd.read_csv('./datasets/fmnist_small.csv')\n",
    "df.head()"
   ]
  },
  {
   "cell_type": "code",
   "execution_count": 5,
   "id": "c362ad3e",
   "metadata": {},
   "outputs": [],
   "source": [
    "X = df.drop(columns=['label'])\n",
    "y = df['label']"
   ]
  },
  {
   "cell_type": "code",
   "execution_count": 6,
   "id": "0b7ed6cf",
   "metadata": {},
   "outputs": [],
   "source": [
    "X_train,X_test,y_train,y_test = train_test_split(X,y,test_size=0.2,random_state=10)"
   ]
  },
  {
   "cell_type": "code",
   "execution_count": 7,
   "id": "118fcd6e",
   "metadata": {},
   "outputs": [],
   "source": [
    "X_train = X_train/255.0\n",
    "X_test = X_test/255.0"
   ]
  },
  {
   "cell_type": "code",
   "execution_count": 8,
   "id": "3772d353",
   "metadata": {},
   "outputs": [],
   "source": [
    "class CustomDataset(Dataset):\n",
    "    def __init__(self,features,labels):\n",
    "        self.features = torch.tensor(features.values,dtype=torch.float32)\n",
    "        self.labels = torch.tensor(labels.values,dtype=torch.long)\n",
    "        \n",
    "    def __len__(self):\n",
    "        return len(self.features)\n",
    "    \n",
    "    def __getitem__(self,index):\n",
    "        return self.features[index],self.labels[index]        "
   ]
  },
  {
   "cell_type": "code",
   "execution_count": 9,
   "id": "75f7d058",
   "metadata": {},
   "outputs": [],
   "source": [
    "train_dataset = CustomDataset(X_train,y_train)"
   ]
  },
  {
   "cell_type": "code",
   "execution_count": 10,
   "id": "a594bb3e",
   "metadata": {},
   "outputs": [
    {
     "data": {
      "text/plain": [
       "4800"
      ]
     },
     "execution_count": 10,
     "metadata": {},
     "output_type": "execute_result"
    }
   ],
   "source": [
    "len(train_dataset)"
   ]
  },
  {
   "cell_type": "code",
   "execution_count": 11,
   "id": "d82ef57b",
   "metadata": {},
   "outputs": [],
   "source": [
    "test_dataset = CustomDataset(X_test,y_test)"
   ]
  },
  {
   "cell_type": "code",
   "execution_count": 12,
   "id": "ad6c25d1",
   "metadata": {},
   "outputs": [
    {
     "data": {
      "text/plain": [
       "1200"
      ]
     },
     "execution_count": 12,
     "metadata": {},
     "output_type": "execute_result"
    }
   ],
   "source": [
    "len(X_test)"
   ]
  },
  {
   "cell_type": "code",
   "execution_count": 13,
   "id": "c94fb165",
   "metadata": {},
   "outputs": [],
   "source": [
    "train_loader = DataLoader(train_dataset,batch_size=32,shuffle=True)\n",
    "test_loader = DataLoader(test_dataset,batch_size=32,shuffle=False)"
   ]
  },
  {
   "cell_type": "code",
   "execution_count": 14,
   "id": "6e305f6b",
   "metadata": {},
   "outputs": [],
   "source": [
    "class NN(nn.Module):\n",
    "    def __init__(self,num_features):\n",
    "        super().__init__()\n",
    "        self.network = nn.Sequential(\n",
    "            nn.Linear(num_features,128),\n",
    "            nn.ReLU(),\n",
    "            nn.Linear(128,64),\n",
    "            nn.ReLU(),\n",
    "            nn.Linear(64,10)\n",
    "        )\n",
    "        \n",
    "    def forward(self, x):\n",
    "        return self.network(x)        "
   ]
  },
  {
   "cell_type": "code",
   "execution_count": 15,
   "id": "141606fc",
   "metadata": {},
   "outputs": [],
   "source": [
    "epochs = 100\n",
    "learning_rate = 0.01"
   ]
  },
  {
   "cell_type": "code",
   "execution_count": 16,
   "id": "78bc2a8d",
   "metadata": {},
   "outputs": [],
   "source": [
    "# instantiate the model\n",
    "model = NN(X_train.shape[1])\n",
    "\n",
    "# loss function\n",
    "loss_function = nn.CrossEntropyLoss()\n",
    " \n",
    "# optimizer \n",
    "optimizer = optim.SGD(model.parameters(),learning_rate)    "
   ]
  },
  {
   "cell_type": "code",
   "execution_count": 17,
   "id": "f06eaec7",
   "metadata": {},
   "outputs": [
    {
     "name": "stdout",
     "output_type": "stream",
     "text": [
      "Epoch 0: Loss: 329.8446595668793\n",
      "Epoch 1: Loss: 277.8671337366104\n",
      "Epoch 2: Loss: 212.282160282135\n",
      "Epoch 3: Loss: 172.0891523361206\n",
      "Epoch 4: Loss: 148.81258696317673\n",
      "Epoch 5: Loss: 134.3056784272194\n",
      "Epoch 6: Loss: 125.15527987480164\n",
      "Epoch 7: Loss: 118.77223527431488\n",
      "Epoch 8: Loss: 113.3487634062767\n",
      "Epoch 9: Loss: 108.94896304607391\n",
      "Epoch 10: Loss: 105.4925326704979\n",
      "Epoch 11: Loss: 101.95368853211403\n",
      "Epoch 12: Loss: 99.27613332867622\n",
      "Epoch 13: Loss: 96.3955186009407\n",
      "Epoch 14: Loss: 93.11757242679596\n",
      "Epoch 15: Loss: 91.22387054562569\n",
      "Epoch 16: Loss: 89.01160556077957\n",
      "Epoch 17: Loss: 87.0930772125721\n",
      "Epoch 18: Loss: 85.5559822767973\n",
      "Epoch 19: Loss: 84.42306166887283\n",
      "Epoch 20: Loss: 82.18166156113148\n",
      "Epoch 21: Loss: 80.76551994681358\n",
      "Epoch 22: Loss: 79.42049044370651\n",
      "Epoch 23: Loss: 78.13504467904568\n",
      "Epoch 24: Loss: 76.92593061923981\n",
      "Epoch 25: Loss: 75.96466994285583\n",
      "Epoch 26: Loss: 75.04027150571346\n",
      "Epoch 27: Loss: 73.86805474758148\n",
      "Epoch 28: Loss: 72.96005533635616\n",
      "Epoch 29: Loss: 71.62236586213112\n",
      "Epoch 30: Loss: 71.3221850246191\n",
      "Epoch 31: Loss: 69.36707754433155\n",
      "Epoch 32: Loss: 69.46986736357212\n",
      "Epoch 33: Loss: 68.88310869038105\n",
      "Epoch 34: Loss: 67.88468572497368\n",
      "Epoch 35: Loss: 67.45065347850323\n",
      "Epoch 36: Loss: 66.50508017838001\n",
      "Epoch 37: Loss: 65.90873795747757\n",
      "Epoch 38: Loss: 65.32442411780357\n",
      "Epoch 39: Loss: 64.72571597993374\n",
      "Epoch 40: Loss: 64.06616543978453\n",
      "Epoch 41: Loss: 63.39186552166939\n",
      "Epoch 42: Loss: 62.70931626856327\n",
      "Epoch 43: Loss: 62.90183961391449\n",
      "Epoch 44: Loss: 61.38549454510212\n",
      "Epoch 45: Loss: 60.77549670636654\n",
      "Epoch 46: Loss: 60.04329705238342\n",
      "Epoch 47: Loss: 59.896803721785545\n",
      "Epoch 48: Loss: 59.69599650800228\n",
      "Epoch 49: Loss: 58.11054581403732\n",
      "Epoch 50: Loss: 58.84128639101982\n",
      "Epoch 51: Loss: 57.73293823748827\n",
      "Epoch 52: Loss: 57.53641311079264\n",
      "Epoch 53: Loss: 56.94069877266884\n",
      "Epoch 54: Loss: 56.17962521314621\n",
      "Epoch 55: Loss: 55.66939241439104\n",
      "Epoch 56: Loss: 55.780384331941605\n",
      "Epoch 57: Loss: 54.965798795223236\n",
      "Epoch 58: Loss: 54.493555679917336\n",
      "Epoch 59: Loss: 53.68032515048981\n",
      "Epoch 60: Loss: 53.26561766862869\n",
      "Epoch 61: Loss: 52.66587068140507\n",
      "Epoch 62: Loss: 52.09096669405699\n",
      "Epoch 63: Loss: 52.14500941336155\n",
      "Epoch 64: Loss: 51.42412228882313\n",
      "Epoch 65: Loss: 51.937546737492085\n",
      "Epoch 66: Loss: 51.4810339063406\n",
      "Epoch 67: Loss: 50.40346468240023\n",
      "Epoch 68: Loss: 49.6289227232337\n",
      "Epoch 69: Loss: 49.24244799464941\n",
      "Epoch 70: Loss: 48.6956834346056\n",
      "Epoch 71: Loss: 48.79799773544073\n",
      "Epoch 72: Loss: 48.55710359662771\n",
      "Epoch 73: Loss: 47.86224525421858\n",
      "Epoch 74: Loss: 47.42190006375313\n",
      "Epoch 75: Loss: 47.139719903469086\n",
      "Epoch 76: Loss: 46.90835025161505\n",
      "Epoch 77: Loss: 46.16764232516289\n",
      "Epoch 78: Loss: 46.09797269850969\n",
      "Epoch 79: Loss: 45.60202344506979\n",
      "Epoch 80: Loss: 45.078156255185604\n",
      "Epoch 81: Loss: 45.085903361439705\n",
      "Epoch 82: Loss: 44.54403620958328\n",
      "Epoch 83: Loss: 44.399226270616055\n",
      "Epoch 84: Loss: 43.317789778113365\n",
      "Epoch 85: Loss: 42.854275077581406\n",
      "Epoch 86: Loss: 43.13757152110338\n",
      "Epoch 87: Loss: 42.85851025953889\n",
      "Epoch 88: Loss: 41.71280965954065\n",
      "Epoch 89: Loss: 41.20179730653763\n",
      "Epoch 90: Loss: 41.65124016627669\n",
      "Epoch 91: Loss: 40.7004414871335\n",
      "Epoch 92: Loss: 41.097463726997375\n",
      "Epoch 93: Loss: 40.341680608689785\n",
      "Epoch 94: Loss: 39.83538304269314\n",
      "Epoch 95: Loss: 40.13810323178768\n",
      "Epoch 96: Loss: 38.141307182610035\n",
      "Epoch 97: Loss: 39.044149711728096\n",
      "Epoch 98: Loss: 39.00101113319397\n",
      "Epoch 99: Loss: 38.590171948075294\n"
     ]
    }
   ],
   "source": [
    "for epoch in range(epochs):\n",
    "    epoch_loss = 0\n",
    "    for batch_features,batch_labels in train_loader:\n",
    "        # forward pass\n",
    "        y_pred = model(batch_features)\n",
    "        \n",
    "        # calculate loss\n",
    "        loss = loss_function(y_pred,batch_labels)\n",
    "        \n",
    "        # Back pass\n",
    "        optimizer.zero_grad()\n",
    "        loss.backward() \n",
    "        \n",
    "        # update parameters\n",
    "        optimizer.step()\n",
    "        \n",
    "        epoch_loss += loss.item()\n",
    "    \n",
    "    print(f\"Epoch {epoch}: Loss: {epoch_loss}\")        \n",
    "    \n",
    "avg_loss = epoch_loss / len(train_loader)     "
   ]
  },
  {
   "cell_type": "code",
   "execution_count": 18,
   "id": "0054e9f7",
   "metadata": {},
   "outputs": [
    {
     "data": {
      "text/plain": [
       "NN(\n",
       "  (network): Sequential(\n",
       "    (0): Linear(in_features=784, out_features=128, bias=True)\n",
       "    (1): ReLU()\n",
       "    (2): Linear(in_features=128, out_features=64, bias=True)\n",
       "    (3): ReLU()\n",
       "    (4): Linear(in_features=64, out_features=10, bias=True)\n",
       "  )\n",
       ")"
      ]
     },
     "execution_count": 18,
     "metadata": {},
     "output_type": "execute_result"
    }
   ],
   "source": [
    "model.eval()"
   ]
  },
  {
   "cell_type": "code",
   "execution_count": 19,
   "id": "4383c100",
   "metadata": {},
   "outputs": [
    {
     "name": "stdout",
     "output_type": "stream",
     "text": [
      "0.84\n"
     ]
    }
   ],
   "source": [
    "total = 0\n",
    "correct = 0\n",
    "\n",
    "with torch.no_grad():\n",
    "    for batch_features, batch_labels in test_loader:\n",
    "        outputs = model(batch_features)\n",
    "        _,predicted = torch.max(outputs,1)\n",
    "        total = total + batch_labels.shape[0]\n",
    "        correct = correct + (predicted == batch_labels).sum().item()\n",
    "    \n",
    "    print(correct/total)        "
   ]
  }
 ],
 "metadata": {
  "kernelspec": {
   "display_name": ".venv (3.12.5)",
   "language": "python",
   "name": "python3"
  },
  "language_info": {
   "codemirror_mode": {
    "name": "ipython",
    "version": 3
   },
   "file_extension": ".py",
   "mimetype": "text/x-python",
   "name": "python",
   "nbconvert_exporter": "python",
   "pygments_lexer": "ipython3",
   "version": "3.12.5"
  }
 },
 "nbformat": 4,
 "nbformat_minor": 5
}
